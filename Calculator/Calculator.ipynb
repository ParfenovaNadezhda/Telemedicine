{
 "cells": [
  {
   "cell_type": "code",
   "execution_count": 1,
   "id": "3db96139-a6c5-47ab-a59e-559fc550954f",
   "metadata": {},
   "outputs": [],
   "source": [
    "import numpy as np"
   ]
  },
  {
   "cell_type": "code",
   "execution_count": 2,
   "id": "4d54213c-914b-4552-9657-e310f41b742b",
   "metadata": {},
   "outputs": [],
   "source": [
    "class Calculator():\n",
    "    def __init__(self, data, code, user_id, task_id):\n",
    "        self.data1 = data\n",
    "        self.code = code\n",
    "        self.user = user_id\n",
    "        self.task = task_id\n",
    "        self.results = []\n",
    "        self.res = None\n",
    "\n",
    "    \n",
    "    def processing(self):\n",
    "        self.results = []\n",
    "        for i in range(len(self.data1)):\n",
    "            data = self.data1[i]\n",
    "            exec(self.code)\n",
    "            if isinstance(self.res, np.ndarray):\n",
    "                self.res = self.res.tolist()\n",
    "            self.results.append(self.res)\n",
    "        return self.user, self.task, self.results, \n",
    "    "
   ]
  },
  {
   "cell_type": "code",
   "execution_count": 3,
   "id": "fc96a253-957b-4352-937d-18a11a2cac3e",
   "metadata": {},
   "outputs": [],
   "source": [
    "a = [[1, 2, 3], [2, 4, 6]]"
   ]
  },
  {
   "cell_type": "code",
   "execution_count": 4,
   "id": "b9775f7a-23ce-4c6f-9d9f-01a13d49c6c7",
   "metadata": {},
   "outputs": [],
   "source": [
    "func = \"\"\"\n",
    "import numpy as np\n",
    "\n",
    "def foo1(data):\n",
    "    data_fft = np.fft.fft(data)\n",
    "    return data_fft\n",
    "\n",
    "self.res = foo1(data)\n",
    "\"\"\""
   ]
  },
  {
   "cell_type": "code",
   "execution_count": 5,
   "id": "03702c7f-6ce6-457f-9535-674380ca66b2",
   "metadata": {
    "scrolled": true
   },
   "outputs": [],
   "source": [
    "q = Calculator(a, func, 1, 1)"
   ]
  },
  {
   "cell_type": "code",
   "execution_count": 6,
   "id": "794a687d-93c8-4fb7-890c-154f949e7792",
   "metadata": {
    "scrolled": true
   },
   "outputs": [
    {
     "data": {
      "text/plain": [
       "(1,\n",
       " 1,\n",
       " [[(6+0j), (-1.5+0.8660254037844386j), (-1.5-0.8660254037844386j)],\n",
       "  [(12+0j), (-3+1.7320508075688772j), (-3-1.7320508075688772j)]])"
      ]
     },
     "execution_count": 6,
     "metadata": {},
     "output_type": "execute_result"
    }
   ],
   "source": [
    "q.processing()"
   ]
  },
  {
   "cell_type": "code",
   "execution_count": 7,
   "id": "914692c9-b03b-4402-86bf-c89bf9e052c1",
   "metadata": {},
   "outputs": [],
   "source": [
    "func1 = \"\"\"\n",
    "def foo2(data):\n",
    "    res_mean = np.mean(data)\n",
    "    return res_mean\n",
    "\n",
    "self.res = foo2(data)\n",
    "\"\"\""
   ]
  },
  {
   "cell_type": "code",
   "execution_count": 8,
   "id": "2f4774e0-0727-49e5-9195-23ab4da0e7bd",
   "metadata": {},
   "outputs": [],
   "source": [
    "w = Calculator(a, func1, 1, 2)"
   ]
  },
  {
   "cell_type": "code",
   "execution_count": 9,
   "id": "634bf3b5-1313-4f7a-b832-8aa8a17b7026",
   "metadata": {},
   "outputs": [
    {
     "data": {
      "text/plain": [
       "(1, 2, [2.0, 4.0])"
      ]
     },
     "execution_count": 9,
     "metadata": {},
     "output_type": "execute_result"
    }
   ],
   "source": [
    "w.processing()"
   ]
  },
  {
   "cell_type": "code",
   "execution_count": null,
   "id": "dff1f387-997e-4346-9d4d-2e34e4db4c0a",
   "metadata": {},
   "outputs": [],
   "source": []
  }
 ],
 "metadata": {
  "kernelspec": {
   "display_name": "Python 3 (ipykernel)",
   "language": "python",
   "name": "python3"
  },
  "language_info": {
   "codemirror_mode": {
    "name": "ipython",
    "version": 3
   },
   "file_extension": ".py",
   "mimetype": "text/x-python",
   "name": "python",
   "nbconvert_exporter": "python",
   "pygments_lexer": "ipython3",
   "version": "3.12.4"
  }
 },
 "nbformat": 4,
 "nbformat_minor": 5
}
