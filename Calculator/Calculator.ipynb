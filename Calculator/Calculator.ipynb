{
 "cells": [
  {
   "cell_type": "code",
   "execution_count": 149,
   "id": "4d54213c-914b-4552-9657-e310f41b742b",
   "metadata": {},
   "outputs": [],
   "source": [
    "class Calculator():\n",
    "    def __init__(self, data, code):\n",
    "        self.data1 = data\n",
    "        self.code = code\n",
    "        self.results = []\n",
    "        self.res = None\n",
    "\n",
    "    \n",
    "    def processing(self):\n",
    "        self.results = []\n",
    "        for i in range(len(self.data1)):\n",
    "            data = self.data1[i]\n",
    "            exec(self.code)\n",
    "            if isinstance(self.res, np.ndarray):\n",
    "                self.res = self.res.tolist()\n",
    "            self.results.append(self.res)\n",
    "        return self.results\n",
    "    "
   ]
  },
  {
   "cell_type": "code",
   "execution_count": 150,
   "id": "fc96a253-957b-4352-937d-18a11a2cac3e",
   "metadata": {},
   "outputs": [],
   "source": [
    "a = [[1, 2, 3], [2, 4, 6]]"
   ]
  },
  {
   "cell_type": "code",
   "execution_count": 151,
   "id": "b9775f7a-23ce-4c6f-9d9f-01a13d49c6c7",
   "metadata": {},
   "outputs": [],
   "source": [
    "func = \"\"\"\n",
    "import numpy as np\n",
    "\n",
    "def foo1(data):\n",
    "    data_fft = np.fft.fft(data)\n",
    "    return data_fft\n",
    "\n",
    "self.res = foo1(data)\n",
    "\"\"\""
   ]
  },
  {
   "cell_type": "code",
   "execution_count": 152,
   "id": "03702c7f-6ce6-457f-9535-674380ca66b2",
   "metadata": {
    "scrolled": true
   },
   "outputs": [],
   "source": [
    "q = Calculator(a, func)"
   ]
  },
  {
   "cell_type": "code",
   "execution_count": 153,
   "id": "794a687d-93c8-4fb7-890c-154f949e7792",
   "metadata": {
    "scrolled": true
   },
   "outputs": [
    {
     "data": {
      "text/plain": [
       "[[(6+0j), (-1.5+0.8660254037844386j), (-1.5-0.8660254037844386j)],\n",
       " [(12+0j), (-3+1.7320508075688772j), (-3-1.7320508075688772j)]]"
      ]
     },
     "execution_count": 153,
     "metadata": {},
     "output_type": "execute_result"
    }
   ],
   "source": [
    "q.processing()"
   ]
  }
 ],
 "metadata": {
  "kernelspec": {
   "display_name": "Python 3 (ipykernel)",
   "language": "python",
   "name": "python3"
  },
  "language_info": {
   "codemirror_mode": {
    "name": "ipython",
    "version": 3
   },
   "file_extension": ".py",
   "mimetype": "text/x-python",
   "name": "python",
   "nbconvert_exporter": "python",
   "pygments_lexer": "ipython3",
   "version": "3.12.4"
  }
 },
 "nbformat": 4,
 "nbformat_minor": 5
}
