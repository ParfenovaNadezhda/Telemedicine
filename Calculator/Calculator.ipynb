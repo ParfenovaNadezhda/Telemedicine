{
 "cells": [
  {
   "cell_type": "code",
   "execution_count": 17,
   "id": "3db96139-a6c5-47ab-a59e-559fc550954f",
   "metadata": {},
   "outputs": [],
   "source": [
    "import numpy as np"
   ]
  },
  {
   "cell_type": "code",
   "execution_count": 18,
   "id": "4d54213c-914b-4552-9657-e310f41b742b",
   "metadata": {},
   "outputs": [],
   "source": [
    "class Calculator():\n",
    "    def __init__(self, data, code):\n",
    "        self.data1 = data\n",
    "        self.code = code\n",
    "        self.results = []\n",
    "        self.res = None\n",
    "\n",
    "    \n",
    "    def processing(self):\n",
    "        self.results = []\n",
    "        for i in range(len(self.data1)):\n",
    "            data = self.data1[i]\n",
    "            exec(self.code)\n",
    "            if isinstance(self.res, np.ndarray):\n",
    "                self.res = self.res.tolist()\n",
    "            self.results.append(self.res)\n",
    "        return self.results\n",
    "    "
   ]
  },
  {
   "cell_type": "code",
   "execution_count": 19,
   "id": "fc96a253-957b-4352-937d-18a11a2cac3e",
   "metadata": {},
   "outputs": [],
   "source": [
    "a = [[1, 2, 3], [2, 4, 6]]"
   ]
  },
  {
   "cell_type": "code",
   "execution_count": 20,
   "id": "b9775f7a-23ce-4c6f-9d9f-01a13d49c6c7",
   "metadata": {},
   "outputs": [],
   "source": [
    "func = \"\"\"\n",
    "import numpy as np\n",
    "\n",
    "def foo1(data):\n",
    "    data_fft = np.fft.fft(data)\n",
    "    return data_fft\n",
    "\n",
    "self.res = foo1(data)\n",
    "\"\"\""
   ]
  },
  {
   "cell_type": "code",
   "execution_count": 21,
   "id": "03702c7f-6ce6-457f-9535-674380ca66b2",
   "metadata": {
    "scrolled": true
   },
   "outputs": [],
   "source": [
    "q = Calculator(a, func)"
   ]
  },
  {
   "cell_type": "code",
   "execution_count": 22,
   "id": "794a687d-93c8-4fb7-890c-154f949e7792",
   "metadata": {
    "scrolled": true
   },
   "outputs": [
    {
     "data": {
      "text/plain": [
       "[[(6+0j), (-1.5+0.8660254037844386j), (-1.5-0.8660254037844386j)],\n",
       " [(12+0j), (-3+1.7320508075688772j), (-3-1.7320508075688772j)]]"
      ]
     },
     "execution_count": 22,
     "metadata": {},
     "output_type": "execute_result"
    }
   ],
   "source": [
    "q.processing()"
   ]
  },
  {
   "cell_type": "code",
   "execution_count": 23,
   "id": "914692c9-b03b-4402-86bf-c89bf9e052c1",
   "metadata": {},
   "outputs": [],
   "source": [
    "func1 = \"\"\"\n",
    "def foo2(data):\n",
    "    res_mean = np.mean(data)\n",
    "    return res_mean\n",
    "\n",
    "self.res = foo2(data)\n",
    "\"\"\""
   ]
  },
  {
   "cell_type": "code",
   "execution_count": 24,
   "id": "2f4774e0-0727-49e5-9195-23ab4da0e7bd",
   "metadata": {},
   "outputs": [],
   "source": [
    "w = Calculator(a, func1)"
   ]
  },
  {
   "cell_type": "code",
   "execution_count": 25,
   "id": "634bf3b5-1313-4f7a-b832-8aa8a17b7026",
   "metadata": {},
   "outputs": [
    {
     "data": {
      "text/plain": [
       "[2.0, 4.0]"
      ]
     },
     "execution_count": 25,
     "metadata": {},
     "output_type": "execute_result"
    }
   ],
   "source": [
    "w.processing()"
   ]
  },
  {
   "cell_type": "code",
   "execution_count": 26,
   "id": "dff1f387-997e-4346-9d4d-2e34e4db4c0a",
   "metadata": {},
   "outputs": [],
   "source": [
    "func3 = \"\"\"\n",
    "\n",
    "def normalize(data):\n",
    "    #Нормализует сигнал в диапазоне от 0 до 1.\n",
    "    return (data - np.min(data)) / (np.max(data) - np.min(data))\n",
    "\n",
    "def moving_average(data):\n",
    "    #Вычисляет скользящее среднее сигнала.\n",
    "    window_size = 3\n",
    "    kernel = np.ones(window_size) / window_size  # Создаем ядро bp 1 для скользящего среднего\n",
    "    return np.convolve(data, kernel, mode='valid')\n",
    "\n",
    "\n",
    "# Нормализация с.игнала\n",
    "normalized_signal = normalize(np.array(data))\n",
    "\n",
    "# Скользящее среднее с окном размером 3\n",
    "smoothed_signal = moving_average(normalized_signal)\n",
    "\n",
    "self.res = smoothed_signal\n",
    "\"\"\""
   ]
  },
  {
   "cell_type": "code",
   "execution_count": 27,
   "id": "1f61e98f-7b5d-48f8-8d7e-4c021bb7637f",
   "metadata": {},
   "outputs": [],
   "source": [
    "b = [[1, 2, 3], [2, 4, 6, 7, 8, 9, 10]]"
   ]
  },
  {
   "cell_type": "code",
   "execution_count": 28,
   "id": "990fcf0b-d15c-4805-b941-3b8a5bebe4d2",
   "metadata": {},
   "outputs": [],
   "source": [
    "e = Calculator(b, func3)"
   ]
  },
  {
   "cell_type": "code",
   "execution_count": 29,
   "id": "b7bbb8a9-9a16-4956-9e43-2841b69f5bfc",
   "metadata": {},
   "outputs": [
    {
     "data": {
      "text/plain": [
       "[[0.5], [0.25, 0.4583333333333333, 0.625, 0.75, 0.875]]"
      ]
     },
     "execution_count": 29,
     "metadata": {},
     "output_type": "execute_result"
    }
   ],
   "source": [
    "e.processing()"
   ]
  },
  {
   "cell_type": "code",
   "execution_count": null,
   "id": "be7494c2-6f16-4f92-8434-ef95f4a6d8f3",
   "metadata": {},
   "outputs": [],
   "source": []
  }
 ],
 "metadata": {
  "kernelspec": {
   "display_name": "Python 3 (ipykernel)",
   "language": "python",
   "name": "python3"
  },
  "language_info": {
   "codemirror_mode": {
    "name": "ipython",
    "version": 3
   },
   "file_extension": ".py",
   "mimetype": "text/x-python",
   "name": "python",
   "nbconvert_exporter": "python",
   "pygments_lexer": "ipython3",
   "version": "3.12.4"
  }
 },
 "nbformat": 4,
 "nbformat_minor": 5
}
