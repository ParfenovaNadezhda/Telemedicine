{
 "cells": [
  {
   "cell_type": "code",
   "execution_count": null,
   "id": "e1fc23d9-1d6a-4a09-b995-9bd1a52c56a1",
   "metadata": {},
   "outputs": [],
   "source": [
    "pip install mysql-connector-python"
   ]
  },
  {
   "cell_type": "code",
   "execution_count": 7,
   "id": "757213d3-3b43-4f01-8ac7-efd3edd3c46b",
   "metadata": {},
   "outputs": [],
   "source": [
    "import mysql.connector\n",
    "from mysql.connector import errorcode\n",
    "# Установите соединение с базой данных\n",
    "try:\n",
    "  cnx = mysql.connector.connect(user='root', password='y57eheci',\n",
    "                              host='127.0.0.1',\n",
    "                              database='mydb')\n",
    "except mysql.connector.Error as err:\n",
    "  if err.errno == errorcode.ER_ACCESS_DENIED_ERROR:\n",
    "    print(\"Something is wrong with your user name or password\")\n",
    "  elif err.errno == errorcode.ER_BAD_DB_ERROR:\n",
    "    print(\"Database does not exist\")\n",
    "  else:\n",
    "    print(err)\n",
    "else:\n",
    "  cnx.close()"
   ]
  },
  {
   "cell_type": "code",
   "execution_count": 5,
   "id": "3b2cb50f-2979-4f85-a71e-486b068fcd6e",
   "metadata": {},
   "outputs": [
    {
     "name": "stdout",
     "output_type": "stream",
     "text": [
      "(1, 'TEST', '00', datetime.datetime(2024, 12, 14, 9, 38, 3))\n"
     ]
    }
   ],
   "source": [
    "import mysql.connector\n",
    "from mysql.connector import errorcode\n",
    "conn = mysql.connector.connect(\n",
    "    host='127.0.0.1',\n",
    "    user='root',\n",
    "    password='y57eheci',\n",
    "    database='mydb'\n",
    ")\n",
    "\n",
    "# Создайте курсор\n",
    "cursor = conn.cursor()\n",
    "\n",
    "# Выполните запрос\n",
    "cursor.execute(\"SELECT * FROM Users\")\n",
    "\n",
    "# Получите результаты\n",
    "results = cursor.fetchall()\n",
    "\n",
    "for row in results:\n",
    "    print(row)\n",
    "\n",
    "# Закройте соединение\n",
    "cursor.close()\n",
    "conn.close()"
   ]
  },
  {
   "cell_type": "code",
   "execution_count": null,
   "id": "1ce1b0f2-2ff9-4426-8d2a-cb65805ae11c",
   "metadata": {},
   "outputs": [],
   "source": []
  },
  {
   "cell_type": "code",
   "execution_count": null,
   "id": "1d73eb15-5f66-4e74-9d72-9dd6ae1b7e6a",
   "metadata": {},
   "outputs": [],
   "source": []
  }
 ],
 "metadata": {
  "kernelspec": {
   "display_name": "Python 3 (ipykernel)",
   "language": "python",
   "name": "python3"
  },
  "language_info": {
   "codemirror_mode": {
    "name": "ipython",
    "version": 3
   },
   "file_extension": ".py",
   "mimetype": "text/x-python",
   "name": "python",
   "nbconvert_exporter": "python",
   "pygments_lexer": "ipython3",
   "version": "3.12.4"
  }
 },
 "nbformat": 4,
 "nbformat_minor": 5
}
