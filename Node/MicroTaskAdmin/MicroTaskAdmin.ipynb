{
  "cells": [
    {
      "cell_type": "markdown",
      "id": "1f6eef48-b878-43fa-97b4-6f9d0e6b2b66",
      "metadata": {
        "id": "1f6eef48-b878-43fa-97b4-6f9d0e6b2b66"
      },
      "source": [
        "Класс MicroTaskAdmin"
      ]
    },
    {
      "cell_type": "code",
      "execution_count": null,
      "id": "997fd67a-c25d-4ebd-8625-3b1a7428cdb1",
      "metadata": {
        "id": "997fd67a-c25d-4ebd-8625-3b1a7428cdb1"
      },
      "outputs": [],
      "source": [
        "class MicroTaskAdmin:\n",
        "    def __init__(self, user_id, task_id, arr, start_arr, stop_arr, function, status=\"pending\"):\n",
        "        \"\"\"\n",
        "        Создает структуры хранения информации о задачах.\n",
        "        \"\"\"\n",
        "        self.user_id = user_id\n",
        "        self.task_id = task_id\n",
        "        self.arr = arr\n",
        "        self.start_arr = start_arr\n",
        "        self.stop_arr = stop_arr\n",
        "        self.status = status\n",
        "        self.function = function\n",
        "\n",
        "    def register_task(self, user_id, task_id, arr, start_arr, stop_arr, function, status):\n",
        "        \"\"\"\n",
        "        Регистрирует новую задачу по task_id.\n",
        "        \"\"\"\n",
        "        if self.task_id == task_id:\n",
        "            print(f\"Задача с task_id '{task_id}' уже существует.\")\n",
        "            return False\n",
        "        else:\n",
        "            self.user_id = user_id\n",
        "            self.task_id = task_id\n",
        "            self.arr = arr\n",
        "            self.start_arr = start_arr\n",
        "            self.stop_arr = stop_arr\n",
        "            self.function = function\n",
        "            self.status = status\n",
        "            print(f\"Задача с task_id '{task_id}' успешно добавлена.\")\n",
        "            return True\n",
        "\n",
        "    def update_task_status(self, task_id, new_status):\n",
        "        \"\"\"\n",
        "        Обновляет статус текущей задачи, по запросу пользователя.\n",
        "        \"\"\"\n",
        "        if self.task_id == task_id:\n",
        "            self.status = new_status\n",
        "            print(f'У задачи с id: {self.task_id} статус обновлен на: {new_status}')\n",
        "            return True\n",
        "        else:\n",
        "            print('Задача с таким id не найдена')\n",
        "            return False\n",
        "\n",
        "    def get_all_tasks_status(self):\n",
        "        \"\"\"\n",
        "        Возвращает статусы всех задач.\n",
        "        \"\"\"\n",
        "        return {\n",
        "            'task_id': self.task_id,\n",
        "            'status': self.status\n",
        "        }\n",
        "\n",
        "    def get_calculator_data(self, user_id, task_id):\n",
        "        \"\"\"\n",
        "        По user_id и task_id возвращает функцию и массив с данными\n",
        "        \"\"\"\n",
        "        if self.user_id == user_id and self.task_id == task_id:\n",
        "            return ('Данные переданы успешно', self.function, self.arr, self.start_arr, self.stop_arr)\n",
        "        else:\n",
        "            return 'Нет данных с таким id пользователя/задачи'"
      ]
    }
  ],
  "metadata": {
    "kernelspec": {
      "display_name": "Python 3 (ipykernel)",
      "language": "python",
      "name": "python3"
    },
    "language_info": {
      "codemirror_mode": {
        "name": "ipython",
        "version": 3
      },
      "file_extension": ".py",
      "mimetype": "text/x-python",
      "name": "python",
      "nbconvert_exporter": "python",
      "pygments_lexer": "ipython3",
      "version": "3.12.4"
    },
    "colab": {
      "provenance": []
    }
  },
  "nbformat": 4,
  "nbformat_minor": 5
}