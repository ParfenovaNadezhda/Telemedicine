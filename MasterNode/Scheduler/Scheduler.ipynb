{
 "cells": [
  {
   "cell_type": "code",
   "execution_count": 111,
   "id": "5c6aa402-afc2-4e13-a811-c27d9ff7ea18",
   "metadata": {},
   "outputs": [],
   "source": [
    "class Scheduler:\n",
    "    def __init__(self, col):\n",
    "        self.nodes = [0]*col\n",
    "\n",
    "    def new_task(self, task_id, user_id, start_arr_id, stop_arr_id):\n",
    "        col = stop_arr_id - start_arr_id + 1 # количество пришедших задач \n",
    "        nodes_list = [0]*len(self.nodes) # количество пришедших задач, назначенных на ноды, массив \n",
    "        while (len(set(self.nodes)) >= 2) & (col != 0): \n",
    "            for i in range(len(self.nodes)):\n",
    "                if self.nodes[i] == min(self.nodes) and col > 0:\n",
    "                    self.nodes[i], nodes_list[i] = self.nodes[i] + 1, nodes_list[i] + 1 \n",
    "                    col -= 1\n",
    "\n",
    "        while col >= len(self.nodes): \n",
    "            self.nodes = [x + 1 for x in self.nodes] \n",
    "            nodes_list = [x + 1 for x in nodes_list] \n",
    "            col -= len(self.nodes) \n",
    "\n",
    "        if col > len(self.nodes):\n",
    "            mult = col // len(self.nodes) \n",
    "            self.nodes = [x + mult for x in self.nodes] \n",
    "            nodes_list = [x + mult for x in nodes_list] \n",
    "            col -= mult * len(self.nodes) \n",
    "            \n",
    "        if col > 0 and col < len(self.nodes):\n",
    "            delta = len(self.nodes) - col \n",
    "            self.nodes[:-delta] = [x + 1 for x in self.nodes[:-delta]] \n",
    "            nodes_list[:-delta] = [x + 1 for x in nodes_list[:-delta]] \n",
    "        \n",
    "        start_arr=[] \n",
    "        finish_arr=[]\n",
    "        for i in nodes_list:\n",
    "            if i != 0:\n",
    "                start_arr.append(start_arr_id)\n",
    "                finish_arr.append(start_arr_id + i - 1)\n",
    "                start_arr_id += i        \n",
    "        return(self.send_message(task_id, user_id, start_arr, finish_arr))\n",
    "\n",
    "    \n",
    "    def send_message(self, task_id, user_id, start_arr, finish_arr):\n",
    "        node_id = 0\n",
    "        return_arr = []\n",
    "        for i in range(len(start_arr)):\n",
    "            node_id = i + 1\n",
    "            start_arr_id = start_arr[i]\n",
    "            stop_arr_id = finish_arr[i]\n",
    "            return_arr.append((task_id, user_id, node_id, start_arr_id, stop_arr_id))\n",
    "        return return_arr\n",
    "                \n",
    "                \n",
    "    def free_node(self, node_num, col_str):\n",
    "        self.nodes[node_num-1] -= col_str"
   ]
  },
  {
   "cell_type": "code",
   "execution_count": 112,
   "id": "302652d3-7c7d-47b2-bc01-038ed419a2aa",
   "metadata": {},
   "outputs": [],
   "source": [
    "a = Scheduler(5)\n",
    "a.nodes = [14, 7, 7, 7, 15]"
   ]
  },
  {
   "cell_type": "code",
   "execution_count": 113,
   "id": "331ccc45-1d2a-4daa-af96-ef2e45edc16e",
   "metadata": {},
   "outputs": [],
   "source": [
    "b = a.new_task(1, 1, 103, 158)\n",
    "a.free_node(1, 5)"
   ]
  },
  {
   "cell_type": "code",
   "execution_count": 114,
   "id": "c385a5e1-5d50-401c-b192-87951e463bc2",
   "metadata": {},
   "outputs": [],
   "source": [
    "c = a.new_task(2, 1, 256, 257)"
   ]
  },
  {
   "cell_type": "code",
   "execution_count": null,
   "id": "ede20b2e-6cfb-4a35-b0a3-227be15bfc7e",
   "metadata": {},
   "outputs": [],
   "source": []
  }
 ],
 "metadata": {
  "kernelspec": {
   "display_name": "Python 3 (ipykernel)",
   "language": "python",
   "name": "python3"
  },
  "language_info": {
   "codemirror_mode": {
    "name": "ipython",
    "version": 3
   },
   "file_extension": ".py",
   "mimetype": "text/x-python",
   "name": "python",
   "nbconvert_exporter": "python",
   "pygments_lexer": "ipython3",
   "version": "3.11.7"
  }
 },
 "nbformat": 4,
 "nbformat_minor": 5
}
