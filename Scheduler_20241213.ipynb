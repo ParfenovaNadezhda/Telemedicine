{
 "cells": [
  {
   "cell_type": "markdown",
   "id": "be973efe-9692-427a-81bb-3bbd78c2cf30",
   "metadata": {},
   "source": [
    "# Scheduler"
   ]
  },
  {
   "cell_type": "code",
   "execution_count": 1,
   "id": "618dc984-0236-43c2-bdc4-da77d21d659f",
   "metadata": {},
   "outputs": [
    {
     "ename": "SyntaxError",
     "evalue": "invalid syntax (3845962901.py, line 8)",
     "output_type": "error",
     "traceback": [
      "\u001b[1;36m  Cell \u001b[1;32mIn[1], line 8\u001b[1;36m\u001b[0m\n\u001b[1;33m    msg = # полученное сообщение в виде msg_dict\u001b[0m\n\u001b[1;37m          ^\u001b[0m\n\u001b[1;31mSyntaxError\u001b[0m\u001b[1;31m:\u001b[0m invalid syntax\n"
     ]
    }
   ],
   "source": [
    "import json\n",
    "class Scheduler:\n",
    "    def __init__(self):\n",
    "        self.nodes = []\n",
    "        \n",
    "    def get_message(self):\n",
    "        while True:\n",
    "            try:\n",
    "                msg = _# полученное сообщение в виде msg_dict\n",
    "                if msg[\"msg_type\"] == \"new\":\n",
    "                    self.new_task(msg)\n",
    "                elif msg[\"msg_type\"] == \"task_done\":\n",
    "                    self.change_status(msg)\n",
    "                elif msg[\"msg_type\"] == \"node_number\":\n",
    "                    self.nodes = [0]*msg[\"node_number\"]\n",
    "            except:\n",
    "                pass\n",
    "\n",
    "    def send_message(self, msg, start_arr, finish_arr):\n",
    "        for i in len(self.nodes):\n",
    "            if finish_arr[i]!=start_arr[i]:\n",
    "                answer={\"node_id\": i+1,\n",
    "                        \"user_id\": msg[\"user_id\"],\n",
    "                        \"task_id\": msg[\"task_id\"],\n",
    "                        \"start_arr_id\": start_arr[i],\n",
    "                        \"stop_arr_id\": finish_arr[i]}\n",
    "        \n",
    "   \n",
    "                \n",
    "    def new_task(self, msg):\n",
    "        start_arr_id= msg[\"start_arr_id\"]\n",
    "        stop_arr_id= msg[\"stop_arr_id\"]\n",
    "        col=stop_arr_id-start_arr_id+1 # количество пришедших задач \n",
    "        nodes_list=[] # количество пришедших задач, назначенных на ноды, массив \n",
    "        while (len(set(self.nodes)) >=2)&( col!=0): \n",
    "            for i in len(self.nodes): \n",
    "                if self.nodes[i]==min(self.nodes): \n",
    "                    self.nodes[i], nodes_list[i]= self.nodes[i]+1, nodes_list[i]+1 \n",
    "                    col-=1   \n",
    "                    break \n",
    "\n",
    "        while col>=len(self.nodes): \n",
    "            self.nodes = [x + 1 for x in self.nodes] \n",
    "            nodes_list = [x + 1 for x in nodes_list] \n",
    "            col-=len(self.nodes) \n",
    "            \n",
    "        if col<len(self.nodes):\n",
    "            delta=len(self.nodes)-col \n",
    "            self.nodes[:-delta] = [x + 1 for x in self.nodes[:-delta]] \n",
    "            nodes_list[:-delta] = [x + 1 for x in nodes_list[:-delta]] \n",
    "        \n",
    "        start_arr=[] \n",
    "        finish_arr=[]\n",
    "        start_arr.append(start_arr_id) \n",
    "        for m in nodes_list:\n",
    "            start_arr.append(m) \n",
    "        for i in len(nodes_list): \n",
    "            finish_arr.append(start_arr[i]+nodes_list[i]-1)\n",
    "        self.send_message(msg, start_arr, finish_arr)\n",
    "\n",
    "    def change_status(self, msg):\n",
    "        self.nodes[msg[\"node_id\"]-1] -= 1\n",
    "        "
   ]
  },
  {
   "cell_type": "code",
   "execution_count": null,
   "id": "83faf5c1-d9a5-4a49-85a0-44da91fa9f1e",
   "metadata": {},
   "outputs": [],
   "source": [
    "# msg_dict\n",
    "\n",
    "# задание количества нод при инициализации\n",
    "{\n",
    "    \"msg_type\": \"node_number\",\n",
    "    \"node_number\": \"\",\n",
    "}\n",
    "# новая задача\n",
    "{\n",
    "    \"msg_type\": \"new\",\n",
    "    \"user_id\": \"\",\n",
    "    \"task_id\": \"\",\n",
    "    \"start_arr_id\": \"\",\n",
    "    \"stop_arr_id\": \"\"\n",
    "}\n",
    "# оповещение о выполнении задачи\n",
    "{\n",
    "    \"msg_type\": \"task_done\",\n",
    "    \"node_id\": \"\",\n",
    "}"
   ]
  },
  {
   "cell_type": "code",
   "execution_count": null,
   "id": "b0089317-e57d-4897-82be-04a8e8aa713f",
   "metadata": {},
   "outputs": [],
   "source": [
    "{\n",
    "    \"node_id\": \"\",\n",
    "    \"user_id\": \"\",\n",
    "    \"task_id\": \"\",\n",
    "    \"start_arr_id\": \"\",\n",
    "    \"stop_arr_id\": \"\"\n",
    "}"
   ]
  }
 ],
 "metadata": {
  "kernelspec": {
   "display_name": "Python 3 (ipykernel)",
   "language": "python",
   "name": "python3"
  },
  "language_info": {
   "codemirror_mode": {
    "name": "ipython",
    "version": 3
   },
   "file_extension": ".py",
   "mimetype": "text/x-python",
   "name": "python",
   "nbconvert_exporter": "python",
   "pygments_lexer": "ipython3",
   "version": "3.11.7"
  }
 },
 "nbformat": 4,
 "nbformat_minor": 5
}
